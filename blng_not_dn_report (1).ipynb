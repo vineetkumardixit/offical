{
 "cells": [
  {
   "cell_type": "code",
   "execution_count": null,
   "id": "058a122c-070a-4fce-9155-60aad713bc9e",
   "metadata": {},
   "outputs": [],
   "source": [
    "import pandas as pd\n",
    "\n",
    "try:\n",
    "    # Load Excel files\n",
    "    crm_df = pd.read_excel(\"CRM.xlsx\")\n",
    "    account_df = pd.read_excel(\"account_JFM_25.xlsx\")\n",
    "\n",
    "    # Filter out blank/null voucher amounts\n",
    "    crm_filtered = crm_df[crm_df['voucher_amount'].notna() & (crm_df['voucher_amount'] != '')]\n",
    "\n",
    "    # Group Account on Ref. No\n",
    "    account_grouped = account_df.groupby('Ref. No', as_index=False)['Bill amount'].sum()\n",
    "\n",
    "    # Filter CRM reference_numbers not in Account Ref. No\n",
    "    unmatched_refs = crm_filtered[~crm_filtered['reference_number'].isin(account_grouped['Ref. No'])]\n",
    "\n",
    "    # Export to Excel\n",
    "    unmatched_refs.to_excel(\"blng_not_dn_report.xlsx\", sheet_name='Blng_not_dn', index=False)\n",
    "\n",
    "    print(\"✅ 'blng_not_dn_report.xlsx' created with missing billing references.\")\n",
    "\n",
    "except Exception as e:\n",
    "    print(f\"❌ Error: {e}\")\n"
   ]
  }
 ],
 "metadata": {
  "kernelspec": {
   "display_name": "Python 3 (ipykernel)",
   "language": "python",
   "name": "python3"
  },
  "language_info": {
   "codemirror_mode": {
    "name": "ipython",
    "version": 3
   },
   "file_extension": ".py",
   "mimetype": "text/x-python",
   "name": "python",
   "nbconvert_exporter": "python",
   "pygments_lexer": "ipython3",
   "version": "3.12.2"
  }
 },
 "nbformat": 4,
 "nbformat_minor": 5
}
