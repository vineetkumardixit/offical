{
 "cells": [
  {
   "cell_type": "code",
   "execution_count": null,
   "id": "058a122c-070a-4fce-9155-60aad713bc9e",
   "metadata": {},
   "outputs": [],
   "source": [
    "import pandas as pd\n",
    "\n",
    "try:\n",
    "    crm_df = pd.read_excel(\"CRM.xlsx\")\n",
    "    voucher_df = pd.read_excel(\"voucher_report-JFM_25.xlsx\")\n",
    "    account_df = pd.read_excel(\"account_JFM_25.xlsx\")\n",
    "\n",
    "    #crm_filtered = crm_df[crm_df['voucher_amount'].notna() & (crm_df['voucher_amount'] != '')]\n",
    "    crm_filtered = crm_df[\n",
    "    crm_df['voucher_amount'].notna() & (crm_df['voucher_amount'] != '')\n",
    "    ].drop_duplicates(subset='reference_number')\n",
    "\n",
    "    crm_grouped = crm_filtered.groupby('reference_number', as_index=False)['voucher_amount'].sum()\n",
    "    voucher_grouped = voucher_df.groupby('reference_number', as_index=False)['total'].sum()\n",
    "    account_grouped = account_df.groupby('Ref. No', as_index=False)['Bill amount'].sum()\n",
    "\n",
    "    m1_df = voucher_grouped.merge(account_grouped, left_on='reference_number', right_on='Ref. No', how='inner')\n",
    "    m2_df = m1_df.merge(crm_grouped, on='reference_number', how='inner')\n",
    "\n",
    "    mismatch = m2_df[round(m2_df['Bill amount'], 2) != round(m2_df['voucher_amount'], 2)]\n",
    "\n",
    "    mismatch['Remarks'] = 'billing amount mismatch'\n",
    "    mismatch.to_excel(\"billing_mismatch_report.xlsx\", index=False)\n",
    "\n",
    "    print(\"✅ 'billing_mismatch_report.xlsx' created for billing amount mismatches.\")\n",
    "\n",
    "except Exception as e:\n",
    "    print(f\"❌ Error: {e}\")\n"
   ]
  }
 ],
 "metadata": {
  "kernelspec": {
   "display_name": "Python 3 (ipykernel)",
   "language": "python",
   "name": "python3"
  },
  "language_info": {
   "codemirror_mode": {
    "name": "ipython",
    "version": 3
   },
   "file_extension": ".py",
   "mimetype": "text/x-python",
   "name": "python",
   "nbconvert_exporter": "python",
   "pygments_lexer": "ipython3",
   "version": "3.12.2"
  }
 },
 "nbformat": 4,
 "nbformat_minor": 5
}
