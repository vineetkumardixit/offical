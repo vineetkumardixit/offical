{
 "cells": [
  {
   "cell_type": "code",
   "execution_count": null,
   "id": "374e04ce-350e-4f04-92cc-1687ec1fc5e3",
   "metadata": {},
   "outputs": [],
   "source": [
    "\"\"\"\n",
    "This script processes an Excel file (KBB_list.xlsx) to:\n",
    "1. Identify duplicate 'kbb_serial_number' values that have different 'reference_number'.\n",
    "2. Extract and filter only those records where the 'kbb_serial_number' has multiple 'reference_number'.\n",
    "3. Save the filtered data into a new Excel file (fraud_filtered.xlsx).\n",
    "4. Display the results for quick verification.\n",
    "\"\"\"\n",
    "\n",
    "import pandas as pd  # Importing the pandas library\n",
    "\n",
    "# Load the Excel file\n",
    "df = pd.read_excel(\"KBB_list.xlsx\")\n",
    "\n",
    "# Filter rows where 'kbb_serial_number' appears multiple times with different 'reference_number'\n",
    "duplicates = df.groupby('kbb_serial_number').filter(lambda x: x['reference_number'].nunique() > 1)\n",
    "\n",
    "# Save the filtered data to a new Excel file\n",
    "duplicates.to_excel(\"KBB_list_dublicate_filtered.xlsx\", index=False)\n",
    "\n",
    "# Display output\n",
    "print(duplicates)\n"
   ]
  },
  {
   "cell_type": "code",
   "execution_count": null,
   "id": "93c756f5-82dc-4ffe-86de-f8fec43b270b",
   "metadata": {},
   "outputs": [],
   "source": [
    "\"\"\"\n",
    "This script processes an Excel file (KBB_list.xlsx) to:\n",
    "1. Remove rows where 'kbb_serial_number' is empty.\n",
    "2. Identify duplicate 'kbb_serial_number' values that have different 'reference_number'.\n",
    "3. Restructure the output so that each unique 'reference_number' appears in separate columns.\n",
    "4. Save the transformed data to a new Excel file (fraud_filtered.xlsx).\n",
    "\"\"\"\n",
    "\n",
    "import pandas as pd  # Importing the pandas library\n",
    "\n",
    "# Load the Excel file\n",
    "df = pd.read_excel(\"KBB_list.xlsx\")\n",
    "\n",
    "# Remove rows where 'kbb_serial_number' is empty\n",
    "df = df.dropna(subset=['kbb_serial_number'])\n",
    "\n",
    "# Filter rows where 'kbb_serial_number' appears multiple times with different 'reference_number'\n",
    "filtered_df = df.groupby('kbb_serial_number').filter(lambda x: x['reference_number'].nunique() > 1)\n",
    "\n",
    "# Pivot the table so each unique 'reference_number' appears in separate columns\n",
    "pivot_df = filtered_df.pivot_table(\n",
    "    index=['description', 'kbb_serial_number'],  # Keep 'description' and 'kbb_serial_number' as row indices\n",
    "    columns=df.groupby('kbb_serial_number').cumcount() + 1,  # Assign unique columns for each 'reference_number'\n",
    "    values='reference_number',  # Values to be placed in new columns\n",
    "    aggfunc=lambda x: x  # Ensures correct placement of values\n",
    ")\n",
    "\n",
    "# Rename the columns for clarity\n",
    "pivot_df.columns = [f'Reference {col}' for col in pivot_df.columns]\n",
    "\n",
    "# Reset the index to convert the pivot table into a DataFrame\n",
    "pivot_df = pivot_df.reset_index()\n",
    "\n",
    "# Save the transformed data to a new Excel file\n",
    "pivot_df.to_excel(\"KBB_list_dublicate_filtered.xlsx\", index=False)\n",
    "\n",
    "# Display output\n",
    "print(\"Processed data saved to KBB_list_dublicate_filtered.xlsx\")\n"
   ]
  }
 ],
 "metadata": {
  "kernelspec": {
   "display_name": "Python 3 (ipykernel)",
   "language": "python",
   "name": "python3"
  },
  "language_info": {
   "codemirror_mode": {
    "name": "ipython",
    "version": 3
   },
   "file_extension": ".py",
   "mimetype": "text/x-python",
   "name": "python",
   "nbconvert_exporter": "python",
   "pygments_lexer": "ipython3",
   "version": "3.12.2"
  }
 },
 "nbformat": 4,
 "nbformat_minor": 5
}
